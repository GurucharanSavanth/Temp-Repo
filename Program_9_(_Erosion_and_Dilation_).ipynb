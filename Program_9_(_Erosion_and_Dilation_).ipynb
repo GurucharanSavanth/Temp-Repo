{
  "nbformat": 4,
  "nbformat_minor": 0,
  "metadata": {
    "colab": {
      "provenance": []
    },
    "kernelspec": {
      "name": "python3",
      "display_name": "Python 3"
    },
    "language_info": {
      "name": "python"
    }
  },
  "cells": [
    {
      "cell_type": "code",
      "execution_count": null,
      "metadata": {
        "id": "86vY2uZn93B-"
      },
      "outputs": [],
      "source": [
        "import cv2\n",
        "import numpy as np\n",
        "from google.colab.patches import cv2_imshow\n",
        "img = cv2.imread('image.png', 0)\n",
        "kernel = np.ones((5, 5), np.uint8)\n",
        "img_erosion = cv2.erode(img, kernel, iterations=1)\n",
        "img_dilation = cv2.dilate(img, kernel, iterations=1)\n",
        "cv2_imshow(img)\n",
        "cv2_imshow(img_erosion)\n",
        "cv2_imshow(img_dilation)\n",
        "cv2.waitKey(0)"
      ]
    }
  ]
}