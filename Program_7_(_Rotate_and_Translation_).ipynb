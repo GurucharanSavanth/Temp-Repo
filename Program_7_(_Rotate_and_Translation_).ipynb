{
  "nbformat": 4,
  "nbformat_minor": 0,
  "metadata": {
    "colab": {
      "provenance": []
    },
    "kernelspec": {
      "name": "python3",
      "display_name": "Python 3"
    },
    "language_info": {
      "name": "python"
    }
  },
  "cells": [
    {
      "cell_type": "code",
      "execution_count": null,
      "metadata": {
        "id": "lrd7g6EL95iB"
      },
      "outputs": [],
      "source": [
        "import cv2\n",
        "from google.colab.patches import cv2_imshow\n",
        "image = cv2.imread('image.png')\n",
        "height, width = image.shape[:2]\n",
        "center = (width/2, height/2)\n",
        "rotate_matrix = cv2.getRotationMatrix2D(center=center, angle=45, scale=1)\n",
        "rotated_image = cv2.warpAffine(src=image, M=rotate_matrix, dsize=(width, height))\n",
        "cv2_imshow( image)\n",
        "cv2_imshow(rotated_image)\n",
        "##\n",
        "import cv2\n",
        "import numpy as np\n",
        "from google.colab.patches import cv2_imshow\n",
        "image = cv2.imread('image.png')\n",
        "height, width = image.shape[:2]\n",
        "tx, ty = width/4, height / 4\n",
        "translation_matrix = np.array([[1, 0, tx],[0, 1, ty]], dtype=np.float32)\n",
        "translated_image=cv2.warpAffine(src=image, M=translation_matrix, dsize=(width,height))\n",
        "cv2_imshow(translated_image)\n",
        "cv2_imshow( image)\n",
        "cv2.waitKey(0)"
      ]
    }
  ]
}