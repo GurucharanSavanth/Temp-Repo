{
  "nbformat": 4,
  "nbformat_minor": 0,
  "metadata": {
    "colab": {
      "provenance": []
    },
    "kernelspec": {
      "name": "python3",
      "display_name": "Python 3"
    },
    "language_info": {
      "name": "python"
    }
  },
  "cells": [
    {
      "cell_type": "code",
      "execution_count": null,
      "metadata": {
        "id": "dqyPZUvA94OG"
      },
      "outputs": [],
      "source": [
        "import cv2 as cv\n",
        "from google.colab.patches import cv2_imshow\n",
        "gray_img = cv2.imread('image.png', cv.IMREAD_GRAYSCALE)\n",
        "edges = cv2.Canny(gray_img, 100, 200)\n",
        "contours, _ = cv.findContours(edges, cv.RETR_EXTERNAL, cv.CHAIN_APPROX_SIMPLE)\n",
        "contour_img = cv2.cvtColor(gray_img, cv.COLOR_GRAY2BGR)\n",
        "cv.drawContours(contour_img, contours, -1, (0, 0, 255), 2)\n",
        "cv2_imshow( contour_img)\n"
      ]
    }
  ]
}